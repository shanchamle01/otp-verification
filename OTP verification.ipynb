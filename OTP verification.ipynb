{
 "cells": [
  {
   "cell_type": "code",
   "execution_count": 1,
   "id": "5164f797-bd44-49bc-9c63-3e35a068071a",
   "metadata": {},
   "outputs": [],
   "source": [
    "import os\n",
    "import math\n",
    "import random\n",
    "import smtplib"
   ]
  },
  {
   "cell_type": "code",
   "execution_count": 2,
   "id": "c5877c38-ac1c-4bbd-8b61-db7278a4b463",
   "metadata": {},
   "outputs": [],
   "source": [
    "digits=\"0123456789\"\n",
    "OTP=\"\"\n",
    "for i in range(6):\n",
    "    OTP+=digits[math.floor(random.random()*10)]\n",
    "    otp=OTP+\"is your OTP\"\n",
    "    msg=otp"
   ]
  },
  {
   "cell_type": "code",
   "execution_count": 6,
   "id": "2b6bd359-51b5-471b-9ff2-d678dac7c20c",
   "metadata": {},
   "outputs": [
    {
     "name": "stdin",
     "output_type": "stream",
     "text": [
      "Enter your mail:  shanchamle08@gmail.com\n",
      "Enter your OTP >>: 589809\n"
     ]
    },
    {
     "name": "stdout",
     "output_type": "stream",
     "text": [
      "verified\n"
     ]
    }
   ],
   "source": [
    "s=smtplib.SMTP('smtp.gmail.com',587)\n",
    "s.starttls()\n",
    "\n",
    "emailid=input(\"Enter your mail: \")\n",
    "s.login(emailid,\"ltiouoclmyitqnfp\")\n",
    "s.sendmail('&&&&&&',emailid,msg)\n",
    "\n",
    "a=input(\"Enter your OTP >>:\")\n",
    "if a==OTP:\n",
    "    print(\"verified\")\n",
    "else:\n",
    "    print(\"please check your OTP again\")"
   ]
  },
  {
   "cell_type": "code",
   "execution_count": null,
   "id": "e2fdd193-ae82-4a50-97ad-63c96833acc2",
   "metadata": {},
   "outputs": [],
   "source": []
  }
 ],
 "metadata": {
  "kernelspec": {
   "display_name": "Python 3 (ipykernel)",
   "language": "python",
   "name": "python3"
  },
  "language_info": {
   "codemirror_mode": {
    "name": "ipython",
    "version": 3
   },
   "file_extension": ".py",
   "mimetype": "text/x-python",
   "name": "python",
   "nbconvert_exporter": "python",
   "pygments_lexer": "ipython3",
   "version": "3.11.4"
  }
 },
 "nbformat": 4,
 "nbformat_minor": 5
}
